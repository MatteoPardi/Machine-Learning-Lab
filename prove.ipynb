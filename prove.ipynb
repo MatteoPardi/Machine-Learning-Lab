{
 "cells": [
  {
   "cell_type": "code",
   "execution_count": 1,
   "id": "575d23d7",
   "metadata": {
    "scrolled": false
   },
   "outputs": [
    {
     "data": {
      "text/plain": [
       "DoubleMoon(\n",
       "  name: DoubleMoon-v1,\n",
       "  folds shape: (5, 5),\n",
       "  batchSize: 64,\n",
       "  trainingDataLoaderMethod: shuffle,\n",
       "  device: cpu,\n",
       "  version: v1,\n",
       "  full_dataset: TorchTensorsDataset(length=1000, device=cpu),\n",
       "  full_dataloader: TorchTensorsDataLoader(method=shuffle, batchSize=64, dropLast=False, n_batches=16, device=cpu),\n",
       ")\n",
       "\n",
       "****************************** README ******************************\n",
       "\n",
       "This binary classification task involves categorizing\n",
       "points in a 2D plane that belong to two sets resembling\n",
       "intertwined moons. x[:,0] are the x-coordinates and x[:,1]\n",
       "are the y-coordinates on the cartesian plane. label[i]=0 indicates\n",
       "moon 0, and label[i]=1 indicates moon 1."
      ]
     },
     "execution_count": 1,
     "metadata": {},
     "output_type": "execute_result"
    }
   ],
   "source": [
    "from machineLearningLab_pkg.datamanagers import DoubleMoon\n",
    "\n",
    "dm = DoubleMoon(version=\"v1\")\n",
    "dm"
   ]
  },
  {
   "cell_type": "code",
   "execution_count": 4,
   "id": "02bbe917",
   "metadata": {},
   "outputs": [
    {
     "data": {
      "text/plain": [
       "DataFold(\n",
       "  name: out0in1,\n",
       "  training_dataset: TorchTensorsDataset(length=640, device=cpu),\n",
       "  validation_dataset: TorchTensorsDataset(length=160, device=cpu),\n",
       "  design_dataset: TorchTensorsDataset(length=800, device=cpu),\n",
       "  test_dataset: TorchTensorsDataset(length=200, device=cpu),\n",
       "  training_dataloader: TorchTensorsDataLoader(method=shuffle, batchSize=64, dropLast=False, n_batches=10, device=cpu),\n",
       "  validation_dataloader: TorchTensorsDataLoader(method=None, batchSize=64, dropLast=False, n_batches=3, device=cpu),\n",
       "  design_dataloader: TorchTensorsDataLoader(method=shuffle, batchSize=64, dropLast=False, n_batches=13, device=cpu),\n",
       "  test_dataloader: TorchTensorsDataLoader(method=None, batchSize=64, dropLast=False, n_batches=4, device=cpu),\n",
       ")"
      ]
     },
     "execution_count": 4,
     "metadata": {},
     "output_type": "execute_result"
    }
   ],
   "source": [
    "fold = dm.folds[0,1]\n",
    "fold"
   ]
  }
 ],
 "metadata": {
  "kernelspec": {
   "display_name": "Python 3 (ipykernel)",
   "language": "python",
   "name": "python3"
  },
  "language_info": {
   "codemirror_mode": {
    "name": "ipython",
    "version": 3
   },
   "file_extension": ".py",
   "mimetype": "text/x-python",
   "name": "python",
   "nbconvert_exporter": "python",
   "pygments_lexer": "ipython3",
   "version": "3.9.13"
  }
 },
 "nbformat": 4,
 "nbformat_minor": 5
}
