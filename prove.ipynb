{
 "cells": [
  {
   "cell_type": "code",
   "execution_count": 11,
   "id": "575d23d7",
   "metadata": {
    "scrolled": false
   },
   "outputs": [],
   "source": [
    "from machineLearningLab.datamanagers import DoubleMoon\n",
    "\n",
    "dm = DoubleMoon(version=\"v2\")"
   ]
  },
  {
   "cell_type": "code",
   "execution_count": 12,
   "id": "e44a2d11",
   "metadata": {},
   "outputs": [
    {
     "data": {
      "text/plain": [
       "DataFold(\n",
       "  name: out4in3,\n",
       "  training_dataset: TorchTensorsDataset(length=640, device=cpu),\n",
       "  validation_dataset: TorchTensorsDataset(length=160, device=cpu),\n",
       "  design_dataset: TorchTensorsDataset(length=800, device=cpu),\n",
       "  test_dataset: TorchTensorsDataset(length=200, device=cpu),\n",
       "  training_dataloader: TorchTensorsDataLoader(method=shuffle, batchSize=64, dropLast=True, n_batches=10, device=cpu),\n",
       "  validation_dataloader: TorchTensorsDataLoader(method=None, batchSize=64, dropLast=True, n_batches=2, device=cpu),\n",
       "  design_dataloader: TorchTensorsDataLoader(method=shuffle, batchSize=64, dropLast=True, n_batches=12, device=cpu),\n",
       "  test_dataloader: TorchTensorsDataLoader(method=None, batchSize=64, dropLast=True, n_batches=3, device=cpu),\n",
       ")"
      ]
     },
     "execution_count": 12,
     "metadata": {},
     "output_type": "execute_result"
    }
   ],
   "source": [
    "fold = dm.folds[4,3]\n",
    "fold"
   ]
  },
  {
   "cell_type": "code",
   "execution_count": 14,
   "id": "112decd3",
   "metadata": {},
   "outputs": [
    {
     "data": {
      "text/plain": [
       "(tensor([-1.4595,  0.3052]), tensor(0))"
      ]
     },
     "execution_count": 14,
     "metadata": {},
     "output_type": "execute_result"
    }
   ],
   "source": [
    "dm.full_dataset[0]"
   ]
  }
 ],
 "metadata": {
  "kernelspec": {
   "display_name": "Python 3 (ipykernel)",
   "language": "python",
   "name": "python3"
  },
  "language_info": {
   "codemirror_mode": {
    "name": "ipython",
    "version": 3
   },
   "file_extension": ".py",
   "mimetype": "text/x-python",
   "name": "python",
   "nbconvert_exporter": "python",
   "pygments_lexer": "ipython3",
   "version": "3.9.13"
  }
 },
 "nbformat": 4,
 "nbformat_minor": 5
}
